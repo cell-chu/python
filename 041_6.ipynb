{
  "cells": [
    {
      "cell_type": "markdown",
      "metadata": {
        "id": "LcUYk3hBj8Z5"
      },
      "source": [
        "# Chap6\n",
        "os套件：用來處理文件與目錄，與檔案相關操作"
      ]
    },
    {
      "cell_type": "code",
      "execution_count": null,
      "metadata": {
        "id": "l8mqBD-nj8Z8",
        "outputId": "3eb03d62-cf02-4fa6-a3fe-33cf085d8167"
      },
      "outputs": [
        {
          "name": "stdout",
          "output_type": "stream",
          "text": [
            "C:\\Users\\Administrator\n"
          ]
        }
      ],
      "source": [
        "import os\n",
        "print(os.getcwd()) #顯示目前所在的工作目錄"
      ]
    },
    {
      "cell_type": "code",
      "execution_count": null,
      "metadata": {
        "id": "uO70FSYrj8Z9",
        "outputId": "34b27881-1fd6-4f63-8f50-90ffcdaec6b9"
      },
      "outputs": [
        {
          "data": {
            "text/plain": [
              "['.conda',\n",
              " '.condarc',\n",
              " '.config',\n",
              " '.dotnet',\n",
              " '.eclipse',\n",
              " '.ipynb_checkpoints',\n",
              " '.ipython',\n",
              " '.p2',\n",
              " '.packettracer',\n",
              " '.templateengine',\n",
              " '.tooling',\n",
              " '.VirtualBox',\n",
              " '.vscode',\n",
              " '3D Objects',\n",
              " 'anaconda3',\n",
              " 'AppData',\n",
              " 'Application Data',\n",
              " 'Chap6_inclass.ipynb',\n",
              " 'Cisco Packet Tracer 6.1.1sv',\n",
              " 'Cisco Packet Tracer 7.3.0',\n",
              " 'Cisco Packet Tracer 7.3.1',\n",
              " 'Contacts',\n",
              " 'Cookies',\n",
              " 'Desktop',\n",
              " 'Documents',\n",
              " 'Downloads',\n",
              " 'Favorites',\n",
              " 'Intel',\n",
              " 'IntelGraphicsProfiles',\n",
              " 'Links',\n",
              " 'Local Settings',\n",
              " 'MicrosoftEdgeBackups',\n",
              " 'Music',\n",
              " 'My Documents',\n",
              " 'NetHood',\n",
              " 'NTUSER.DAT',\n",
              " 'ntuser.dat.LOG1',\n",
              " 'ntuser.dat.LOG2',\n",
              " 'NTUSER.DAT{53b39e88-18c4-11ea-a811-000d3aa4692b}.TM.blf',\n",
              " 'NTUSER.DAT{53b39e88-18c4-11ea-a811-000d3aa4692b}.TMContainer00000000000000000001.regtrans-ms',\n",
              " 'NTUSER.DAT{53b39e88-18c4-11ea-a811-000d3aa4692b}.TMContainer00000000000000000002.regtrans-ms',\n",
              " 'ntuser.ini',\n",
              " 'Oracle',\n",
              " 'Pictures',\n",
              " 'PrintHood',\n",
              " 'Recent',\n",
              " 'Saved Games',\n",
              " 'Searches',\n",
              " 'SendTo',\n",
              " 'source',\n",
              " 'Templates',\n",
              " 'Videos',\n",
              " 'VirtualBox VMs',\n",
              " '「開始」功能表']"
            ]
          },
          "execution_count": 2,
          "metadata": {},
          "output_type": "execute_result"
        }
      ],
      "source": [
        "#顯示目錄下的檔案\n",
        "os.listdir(\".\")"
      ]
    },
    {
      "cell_type": "code",
      "execution_count": null,
      "metadata": {
        "id": "ZAGl9pPVj8Z-",
        "outputId": "b0641820-104a-4130-eb95-93d7af7db2a7"
      },
      "outputs": [
        {
          "data": {
            "text/plain": [
              "['.conda',\n",
              " '.condarc',\n",
              " '.config',\n",
              " '.dotnet',\n",
              " '.eclipse',\n",
              " '.ipynb_checkpoints',\n",
              " '.ipython',\n",
              " '.p2',\n",
              " '.packettracer',\n",
              " '.templateengine',\n",
              " '.tooling',\n",
              " '.VirtualBox',\n",
              " '.vscode',\n",
              " '3D Objects',\n",
              " 'anaconda3',\n",
              " 'AppData',\n",
              " 'Application Data',\n",
              " 'Chap6_inclass.ipynb',\n",
              " 'Cisco Packet Tracer 6.1.1sv',\n",
              " 'Cisco Packet Tracer 7.3.0',\n",
              " 'Cisco Packet Tracer 7.3.1',\n",
              " 'Contacts',\n",
              " 'Cookies',\n",
              " 'Desktop',\n",
              " 'Documents',\n",
              " 'Downloads',\n",
              " 'Favorites',\n",
              " 'Intel',\n",
              " 'IntelGraphicsProfiles',\n",
              " 'Links',\n",
              " 'Local Settings',\n",
              " 'MicrosoftEdgeBackups',\n",
              " 'Music',\n",
              " 'My Documents',\n",
              " 'NetHood',\n",
              " 'NTUSER.DAT',\n",
              " 'ntuser.dat.LOG1',\n",
              " 'ntuser.dat.LOG2',\n",
              " 'NTUSER.DAT{53b39e88-18c4-11ea-a811-000d3aa4692b}.TM.blf',\n",
              " 'NTUSER.DAT{53b39e88-18c4-11ea-a811-000d3aa4692b}.TMContainer00000000000000000001.regtrans-ms',\n",
              " 'NTUSER.DAT{53b39e88-18c4-11ea-a811-000d3aa4692b}.TMContainer00000000000000000002.regtrans-ms',\n",
              " 'ntuser.ini',\n",
              " 'Oracle',\n",
              " 'Pictures',\n",
              " 'PrintHood',\n",
              " 'Recent',\n",
              " 'Saved Games',\n",
              " 'Searches',\n",
              " 'SendTo',\n",
              " 'source',\n",
              " 'Templates',\n",
              " 'test',\n",
              " 'Videos',\n",
              " 'VirtualBox VMs',\n",
              " '「開始」功能表']"
            ]
          },
          "execution_count": 3,
          "metadata": {},
          "output_type": "execute_result"
        }
      ],
      "source": [
        "#新增目錄\n",
        "os.makedirs(\"test\") #將test新增進目錄中\n",
        "os.listdir(\".\") #顯示目錄下的所有檔案"
      ]
    },
    {
      "cell_type": "code",
      "execution_count": null,
      "metadata": {
        "id": "wvziMsdOj8Z-",
        "outputId": "8d389bf0-e7a5-4d8f-e326-aea4ca07c7b8"
      },
      "outputs": [
        {
          "data": {
            "text/plain": [
              "['.conda',\n",
              " '.condarc',\n",
              " '.config',\n",
              " '.dotnet',\n",
              " '.eclipse',\n",
              " '.ipynb_checkpoints',\n",
              " '.ipython',\n",
              " '.p2',\n",
              " '.packettracer',\n",
              " '.templateengine',\n",
              " '.tooling',\n",
              " '.VirtualBox',\n",
              " '.vscode',\n",
              " '3D Objects',\n",
              " 'anaconda3',\n",
              " 'AppData',\n",
              " 'Application Data',\n",
              " 'Chap6_inclass.ipynb',\n",
              " 'Cisco Packet Tracer 6.1.1sv',\n",
              " 'Cisco Packet Tracer 7.3.0',\n",
              " 'Cisco Packet Tracer 7.3.1',\n",
              " 'Contacts',\n",
              " 'Cookies',\n",
              " 'Desktop',\n",
              " 'Documents',\n",
              " 'Downloads',\n",
              " 'Favorites',\n",
              " 'Intel',\n",
              " 'IntelGraphicsProfiles',\n",
              " 'Links',\n",
              " 'Local Settings',\n",
              " 'MicrosoftEdgeBackups',\n",
              " 'Music',\n",
              " 'My Documents',\n",
              " 'NetHood',\n",
              " 'NTUSER.DAT',\n",
              " 'ntuser.dat.LOG1',\n",
              " 'ntuser.dat.LOG2',\n",
              " 'NTUSER.DAT{53b39e88-18c4-11ea-a811-000d3aa4692b}.TM.blf',\n",
              " 'NTUSER.DAT{53b39e88-18c4-11ea-a811-000d3aa4692b}.TMContainer00000000000000000001.regtrans-ms',\n",
              " 'NTUSER.DAT{53b39e88-18c4-11ea-a811-000d3aa4692b}.TMContainer00000000000000000002.regtrans-ms',\n",
              " 'ntuser.ini',\n",
              " 'Oracle',\n",
              " 'Pictures',\n",
              " 'PrintHood',\n",
              " 'Recent',\n",
              " 'Saved Games',\n",
              " 'Searches',\n",
              " 'SendTo',\n",
              " 'source',\n",
              " 'Templates',\n",
              " 'Videos',\n",
              " 'VirtualBox VMs',\n",
              " '「開始」功能表']"
            ]
          },
          "execution_count": 4,
          "metadata": {},
          "output_type": "execute_result"
        }
      ],
      "source": [
        "#移除目錄\n",
        "os.rmdir(\"test\") #rmdir能將括弧中指定值刪除\n",
        "os.listdir(\".\") #顯示目錄下的所有檔案"
      ]
    },
    {
      "cell_type": "markdown",
      "metadata": {
        "id": "-Gf9Jj3Gj8Z-"
      },
      "source": [
        "## 檔案處理\n",
        "os套件有自己的檔案處理命令，而比較常用的是python內建的open\n",
        "* w = 可寫(預設建立檔案) 若檔案存在則會清除舊檔案\n",
        "* w+ = 可寫可讀(預設建立檔案) 若檔案存在則會清除舊檔案\n",
        "* r = 可讀\n",
        "* r+ = 可寫可讀 但寫入資料指向開頭\n",
        "* a = 可寫不能讀 寫入資料指向尾端\n",
        "* a+ = 可寫可讀 寫入資料指向尾端\n",
        "* b = 轉為2進位文件\n",
        "* ab+ = 2進位文件的讀寫 寫入資料指向尾端"
      ]
    },
    {
      "cell_type": "markdown",
      "metadata": {
        "id": "LMyQA68fj8Z_"
      },
      "source": [
        "## 新增檔案"
      ]
    },
    {
      "cell_type": "code",
      "execution_count": 1,
      "metadata": {
        "id": "vQnoTDFzj8Z_"
      },
      "outputs": [],
      "source": [
        "a=open(\"a.txt\",\"w\") #新增檔案 w為寫入\n",
        "a.write(\"This is a test1\")\n",
        "a.write(\"This is a test2\\n\")\n",
        "a.write(\"This is a test3\\n\")\n",
        "a.close() #關閉檔案"
      ]
    },
    {
      "cell_type": "markdown",
      "metadata": {
        "id": "1Ms3hXlFj8aA"
      },
      "source": [
        "## 檢查檔案是否存在"
      ]
    },
    {
      "cell_type": "code",
      "execution_count": null,
      "metadata": {
        "id": "J-hcfoOPj8aA",
        "outputId": "b4368675-d847-47ee-cef7-0b7f06afe946"
      },
      "outputs": [
        {
          "data": {
            "text/plain": [
              "True"
            ]
          },
          "execution_count": 6,
          "metadata": {},
          "output_type": "execute_result"
        }
      ],
      "source": [
        "os.path.isfile(\"a.txt\") #檢查檔案是否存在"
      ]
    },
    {
      "cell_type": "markdown",
      "metadata": {
        "id": "EcsJNzsrj8aB"
      },
      "source": [
        "## 讀取檔案"
      ]
    },
    {
      "cell_type": "code",
      "execution_count": null,
      "metadata": {
        "id": "3_RDnAa0j8aB",
        "outputId": "a5abbbcf-eb39-4c46-a11c-4dc0fb2ce574"
      },
      "outputs": [
        {
          "name": "stdout",
          "output_type": "stream",
          "text": [
            "This is a test1This is a test2\n",
            "\n",
            "This is a test3\n",
            "\n",
            "\n"
          ]
        }
      ],
      "source": [
        "a=open(\"a.txt\",\"r\") #r為讀取(r+:除了讀取，還有寫入功能，檔案不存在會回傳error)\n",
        "print(a.readline())\n",
        "print(a.readline())\n",
        "print(a.readline()) #多餘的命令，檔案只有2行\n",
        "a.close()"
      ]
    },
    {
      "cell_type": "code",
      "execution_count": null,
      "metadata": {
        "id": "vDRMrHsvj8aC",
        "outputId": "564fc6f5-f74e-4573-8341-b2325195b0cc"
      },
      "outputs": [
        {
          "name": "stdout",
          "output_type": "stream",
          "text": [
            "['This is a test1This is a test2\\n', 'This is a test3\\n']\n"
          ]
        }
      ],
      "source": [
        "a=open(\"a.txt\",\"r\")\n",
        "print(a.readlines())  #一次讀取多行，與a.read()命令相同\n",
        "a.close()"
      ]
    },
    {
      "cell_type": "code",
      "execution_count": null,
      "metadata": {
        "id": "aXjXJMFPj8aC",
        "outputId": "0a183d1e-9db4-4a80-8ecd-82bd95191dd5"
      },
      "outputs": [
        {
          "name": "stdout",
          "output_type": "stream",
          "text": [
            "['This is a test1This is a test2\\n', 'This is a test3\\n']\n"
          ]
        }
      ],
      "source": [
        "#加上檔案是否存在的判斷\n",
        "if os.path.isfile(\"a.txt\"): #如果檔案存在\n",
        "    a=open(\"a.txt\",\"r\") #讀取a.txt\n",
        "    print(a.readlines()) #顯示檔案中的文字\n",
        "    a.close()\n",
        "else:\n",
        "    print(\"檔案不存在\")"
      ]
    },
    {
      "cell_type": "markdown",
      "metadata": {
        "id": "8KV9X7uHj8aC"
      },
      "source": [
        "## split函式"
      ]
    },
    {
      "cell_type": "code",
      "execution_count": null,
      "metadata": {
        "id": "UNBjAlABj8aD",
        "outputId": "a0d36706-1ba5-4911-f153-43c89d8de11e"
      },
      "outputs": [
        {
          "name": "stdout",
          "output_type": "stream",
          "text": [
            "['This', 'is', 'a', 'test1This', 'is', 'a', 'test2\\n']\n",
            "['This', 'is', 'a', 'test3\\n']\n"
          ]
        }
      ],
      "source": [
        "if os.path.isfile(\"a.txt\"):\n",
        "    a=open(\"a.txt\",\"r\")#讀取a.txt\n",
        "    for line in a:\n",
        "        fields=line.split(\" \") #以空白為切割欄位\n",
        "        print(fields)\n",
        "    a.close()\n",
        "else:\n",
        "    print(\"檔案不存在\")\n",
        "        "
      ]
    },
    {
      "cell_type": "markdown",
      "metadata": {
        "id": "7af5CLCPj8aD"
      },
      "source": [
        "## 附加檔案"
      ]
    },
    {
      "cell_type": "code",
      "execution_count": null,
      "metadata": {
        "id": "sfv9P8Zrj8aD"
      },
      "outputs": [],
      "source": [
        "a=open(\"a.txt\", \"a\")\n",
        "a.write(\"This is test4\\n\") #將文字加入進a.txt\n",
        "a.close()"
      ]
    },
    {
      "cell_type": "code",
      "execution_count": null,
      "metadata": {
        "id": "GfmUgs3Gj8aD",
        "outputId": "f7b1a8f5-d64f-4eed-d273-08aee5c0ddcd"
      },
      "outputs": [
        {
          "name": "stdout",
          "output_type": "stream",
          "text": [
            "['This is a test1This is a test2\\n', 'This is a test3\\n', 'This is test4\\n']\n"
          ]
        }
      ],
      "source": [
        "a=open(\"a.txt\",\"r\")#讀取a.txt 發現多一行\n",
        "print(a.readlines())\n",
        "a.close()"
      ]
    },
    {
      "cell_type": "markdown",
      "metadata": {
        "id": "mBqNida-j8aD"
      },
      "source": [
        "## 比較a與r+的不同\n",
        "* a寫在檔案的結尾\n",
        "* r+寫在檔案的開頭"
      ]
    },
    {
      "cell_type": "code",
      "execution_count": null,
      "metadata": {
        "id": "4FkY5DVFj8aE"
      },
      "outputs": [],
      "source": [
        "a=open(\"a.txt\",\"r+\")\n",
        "a.write(\"This is a test5\\n\") #r+會將新增的文字寫在檔案的開頭\n",
        "a.close()"
      ]
    },
    {
      "cell_type": "code",
      "execution_count": null,
      "metadata": {
        "id": "tQLzkp4oj8aE",
        "outputId": "2482ac6b-47b8-4ebf-d715-a1b7dd72ef2f"
      },
      "outputs": [
        {
          "name": "stdout",
          "output_type": "stream",
          "text": [
            "['This is a test5\\n', 'is is a test2\\n', 'This is a test3\\n', 'This is test4\\n']\n"
          ]
        }
      ],
      "source": [
        "a=open(\"a.txt\",\"r\")\n",
        "print(a.readlines())#讀取檔案\n",
        "a.close()"
      ]
    },
    {
      "cell_type": "markdown",
      "metadata": {
        "id": "e2Xf5aAzj8aE"
      },
      "source": [
        "## 刪除檔案"
      ]
    },
    {
      "cell_type": "code",
      "execution_count": null,
      "metadata": {
        "id": "htAF1q9bj8aE",
        "outputId": "9b86e070-a5e9-4c3d-feb0-466e8887c7d6"
      },
      "outputs": [
        {
          "name": "stdout",
          "output_type": "stream",
          "text": [
            "檔案刪除成功\n",
            "False\n"
          ]
        }
      ],
      "source": [
        "if os.path.isfile(\"a.txt\"):\n",
        "    os.remove(\"a.txt\") #將a.txt刪除\n",
        "    print(\"檔案刪除成功\")\n",
        "else:\n",
        "    print(\"找不到檔案\")\n",
        "print(os.path.isfile(\"a.txt\"))"
      ]
    },
    {
      "cell_type": "code",
      "execution_count": null,
      "metadata": {
        "id": "VXhs5kvdj8aE"
      },
      "outputs": [],
      "source": [
        ""
      ]
    }
  ],
  "metadata": {
    "kernelspec": {
      "display_name": "Python 3",
      "language": "python",
      "name": "python3"
    },
    "language_info": {
      "codemirror_mode": {
        "name": "ipython",
        "version": 3
      },
      "file_extension": ".py",
      "mimetype": "text/x-python",
      "name": "python",
      "nbconvert_exporter": "python",
      "pygments_lexer": "ipython3",
      "version": "3.8.5"
    },
    "colab": {
      "name": "041_6",
      "provenance": []
    }
  },
  "nbformat": 4,
  "nbformat_minor": 0
}