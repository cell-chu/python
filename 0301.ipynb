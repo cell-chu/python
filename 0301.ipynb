{
  "nbformat": 4,
  "nbformat_minor": 0,
  "metadata": {
    "colab": {
      "name": "0301.ipynb",
      "provenance": [],
      "collapsed_sections": []
    },
    "kernelspec": {
      "name": "python3",
      "display_name": "Python 3"
    },
    "language_info": {
      "name": "python"
    }
  },
  "cells": [
    {
      "cell_type": "markdown",
      "source": [
        "# my first python \"#\"標題意思　\n",
        "## \"##\"較小的標題\n",
        "\n",
        "### ctrl+enter 執行\n",
        "### print 印出\n",
        "\n"
      ],
      "metadata": {
        "id": "yxmwn0axkOWY"
      }
    },
    {
      "cell_type": "code",
      "execution_count": null,
      "metadata": {
        "id": "zoLspmpBceJP"
      },
      "outputs": [],
      "source": [
        "#單行註解\n",
        "'''多行註解'''\n",
        "a=1\n",
        "b=5\n",
        "print(a+b)"
      ]
    },
    {
      "cell_type": "markdown",
      "source": [
        "## 印出月曆"
      ],
      "metadata": {
        "id": "lx5bZe9Or9gm"
      }
    },
    {
      "cell_type": "code",
      "source": [
        "import calendar\n",
        "print(calendar.month(2022,3))"
      ],
      "metadata": {
        "id": "TVMZw7Vycwp6"
      },
      "execution_count": null,
      "outputs": []
    },
    {
      "cell_type": "markdown",
      "source": [
        "## 印出年曆 \n",
        "### 前面打過import就可以不用加了,但是前面要先執行過"
      ],
      "metadata": {
        "id": "J4G-AXVcdB3r"
      }
    },
    {
      "cell_type": "code",
      "source": [
        "print(calendar.calendar(2022))"
      ],
      "metadata": {
        "id": "L0YvsYSGdHSa"
      },
      "execution_count": null,
      "outputs": []
    },
    {
      "cell_type": "markdown",
      "source": [
        "# 抓網頁\n",
        "### requests為要求,text為內容"
      ],
      "metadata": {
        "id": "PemOf2zOeSyE"
      }
    },
    {
      "cell_type": "code",
      "source": [
        "import requests\n",
        "q=requests.get(\"https://www.youtube.com/\")\n",
        "print(q.text)"
      ],
      "metadata": {
        "id": "abO6Y0EYeXkD"
      },
      "execution_count": null,
      "outputs": []
    },
    {
      "cell_type": "markdown",
      "source": [
        "# 柱狀圖\n",
        "### matplotlib數學中畫函數的套件 .pyplot為子套件 as為縮寫他\n",
        "### bar柱狀圖 show秀出"
      ],
      "metadata": {
        "id": "L-rXXU98hPQC"
      }
    },
    {
      "cell_type": "code",
      "source": [
        "import matplotlib.pyplot as plt\n",
        "x=[1,2,3]\n",
        "y=[4,5,6]\n",
        "plt.bar(x,y)\n",
        "plt.show"
      ],
      "metadata": {
        "colab": {
          "base_uri": "https://localhost:8080/",
          "height": 282
        },
        "id": "gLyfLS1whURx",
        "outputId": "672e5674-7e67-454b-b62b-5e485dd9b862"
      },
      "execution_count": null,
      "outputs": [
        {
          "output_type": "execute_result",
          "data": {
            "text/plain": [
              "<function matplotlib.pyplot.show>"
            ]
          },
          "metadata": {},
          "execution_count": 20
        },
        {
          "output_type": "display_data",
          "data": {
            "image/png": "[encoded data removed]",
            "text/plain": [
              "<Figure size 432x288 with 1 Axes>"
            ]
          },
          "metadata": {
            "needs_background": "light"
          }
        }
      ]
    },
    {
      "cell_type": "markdown",
      "source": [
        "# 圓餅圖(pie)\n",
        "labels為標籤"
      ],
      "metadata": {
        "id": "tt0esv-Aiowo"
      }
    },
    {
      "cell_type": "code",
      "source": [
        "plt.pie(x,labels=y)\n",
        "plt.show"
      ],
      "metadata": {
        "colab": {
          "base_uri": "https://localhost:8080/",
          "height": 265
        },
        "id": "1Cv9mc_4ivdG",
        "outputId": "97d4a593-2ff5-40aa-a830-101041756afb"
      },
      "execution_count": null,
      "outputs": [
        {
          "output_type": "execute_result",
          "data": {
            "text/plain": [
              "<function matplotlib.pyplot.show>"
            ]
          },
          "metadata": {},
          "execution_count": 22
        },
        {
          "output_type": "display_data",
          "data": {
            "image/png": "[encoded data removed]",
            "text/plain": [
              "<Figure size 432x288 with 1 Axes>"
            ]
          },
          "metadata": {}
        }
      ]
    },
    {
      "cell_type": "markdown",
      "source": [
        "# 變數交換\n",
        "###透過第三變數z使x=10,y=1"
      ],
      "metadata": {
        "id": "Pi80z1vsseEN"
      }
    },
    {
      "cell_type": "code",
      "source": [
        "x=1\n",
        "y=10\n",
        "\n",
        "z=x\n",
        "x=y\n",
        "y=z\n",
        "print(\"x=\",x)\n",
        "print(\"y=\",y)"
      ],
      "metadata": {
        "colab": {
          "base_uri": "https://localhost:8080/"
        },
        "id": "WOmBiWNksfDM",
        "outputId": "d9952d87-05c4-4d1a-a9bd-bc4e8280bdda"
      },
      "execution_count": null,
      "outputs": [
        {
          "output_type": "stream",
          "name": "stdout",
          "text": [
            "x= 10\n",
            "y= 1\n"
          ]
        }
      ]
    },
    {
      "cell_type": "code",
      "source": [
        "#變數交換,不透過第三變數\n",
        "x=1\n",
        "y=10\n",
        "x=x+y\n",
        "y=x-y\n",
        "x=x-y\n",
        "print(x,y)\n",
        "'''\n",
        "1+10=11--x\n",
        "11-10=1--y\n",
        "11-1=10--x\n",
        "'''"
      ],
      "metadata": {
        "colab": {
          "base_uri": "https://localhost:8080/"
        },
        "id": "H518fbEltrW9",
        "outputId": "336ef420-e1d2-4a35-f112-728028980cae"
      },
      "execution_count": null,
      "outputs": [
        {
          "output_type": "stream",
          "name": "stdout",
          "text": [
            "10 1\n"
          ]
        }
      ]
    },
    {
      "cell_type": "code",
      "source": [
        "#python版本的變數交換\n",
        "x=1\n",
        "y=10\n",
        "x,y=y,x\n",
        "print(x,y)"
      ],
      "metadata": {
        "id": "Ws24tPdfvVBN",
        "outputId": "28f5f1dd-50ea-4f3c-863d-7f995ddb7a1f",
        "colab": {
          "base_uri": "https://localhost:8080/"
        }
      },
      "execution_count": null,
      "outputs": [
        {
          "output_type": "stream",
          "name": "stdout",
          "text": [
            "10 1\n"
          ]
        }
      ]
    },
    {
      "cell_type": "code",
      "source": [
        "#變數的平行設定\n",
        "x,y,z=1,10,100\n",
        "print(x,y,z)\n"
      ],
      "metadata": {
        "colab": {
          "base_uri": "https://localhost:8080/"
        },
        "id": "JVJh4CJ6uCJR",
        "outputId": "97e6eef6-fd89-4887-9119-720aba95b1eb"
      },
      "execution_count": null,
      "outputs": [
        {
          "output_type": "stream",
          "name": "stdout",
          "text": [
            "1 10 100\n"
          ]
        }
      ]
    },
    {
      "cell_type": "code",
      "source": [
        "#數學運算\n",
        "x,y,z=3,4,5\n",
        "x+=1 #x=x+1\n",
        "y*=2 #y=y*2\n",
        "z**=3 #z=z**3(z的三次方)\n",
        "print(x,y,z)"
      ],
      "metadata": {
        "colab": {
          "base_uri": "https://localhost:8080/"
        },
        "id": "YvrzIN8BeuhI",
        "outputId": "12ddfb85-3d0c-40a2-c9be-1b8d0301e064"
      },
      "execution_count": null,
      "outputs": [
        {
          "output_type": "stream",
          "name": "stdout",
          "text": [
            "4 8 125\n"
          ]
        }
      ]
    },
    {
      "cell_type": "markdown",
      "source": [
        "# 變數的應用\n",
        "# Q:半徑為10的圓形 其大小面積為?"
      ],
      "metadata": {
        "id": "DIZYjEvBifN-"
      }
    },
    {
      "cell_type": "code",
      "source": [
        "import math\n",
        "r=10\n",
        "print(r*r*math.pi)"
      ],
      "metadata": {
        "id": "AoAQdKc6idCo"
      },
      "execution_count": null,
      "outputs": []
    },
    {
      "cell_type": "code",
      "source": [
        "import math\n",
        "r=eval(input(\"請輸入圓形的半徑\")) #eval()將字串進行數值運算 float為浮點數 可以輸入小數\n",
        "print(r*r*math.pi)"
      ],
      "metadata": {
        "colab": {
          "base_uri": "https://localhost:8080/"
        },
        "id": "XNlrMNUIkeX4",
        "outputId": "66e5b396-2cbe-40ca-d2cd-790b14f254c8"
      },
      "execution_count": null,
      "outputs": [
        {
          "output_type": "stream",
          "name": "stdout",
          "text": [
            "請輸入圓形的半徑10\n",
            "314.1592653589793\n"
          ]
        }
      ]
    },
    {
      "cell_type": "markdown",
      "source": [
        "#資料型別\n",
        "##python屬於動態類型變數 使用前不需要宣告資料型態\n"
      ],
      "metadata": {
        "id": "SyuMcJH6qux4"
      }
    },
    {
      "cell_type": "code",
      "source": [
        "#判斷資料型別\n",
        "x=254\n",
        "y=254.0\n",
        "z=\"writw\"\n",
        "print(type(x))\n",
        "print(type(y))\n",
        "print(type(z))"
      ],
      "metadata": {
        "colab": {
          "base_uri": "https://localhost:8080/"
        },
        "id": "Bt-qopQyqxA_",
        "outputId": "37df74b1-5aa7-4850-f1c9-0c2114783720"
      },
      "execution_count": null,
      "outputs": [
        {
          "output_type": "stream",
          "name": "stdout",
          "text": [
            "<class 'int'>\n",
            "<class 'float'>\n",
            "<class 'str'>\n"
          ]
        }
      ]
    },
    {
      "cell_type": "markdown",
      "source": [
        "#算數符號"
      ],
      "metadata": {
        "id": "ShFqbl8ztFHY"
      }
    },
    {
      "cell_type": "code",
      "source": [
        "x=10\n",
        "y=3\n",
        "print(x/y)\n",
        "print(x//y) #取商\n",
        "print(x%y) #取餘數"
      ],
      "metadata": {
        "id": "k1Z8Fwp6tJOv"
      },
      "execution_count": null,
      "outputs": []
    },
    {
      "cell_type": "markdown",
      "source": [
        "# 算術符號的順序\n",
        "## () > 次方 > */乘除 > +-加減"
      ],
      "metadata": {
        "id": "d5pryAE7u6wX"
      }
    },
    {
      "cell_type": "code",
      "source": [
        "x=(5*(1+2)**2-3+4/2)\n",
        "print(x)"
      ],
      "metadata": {
        "colab": {
          "base_uri": "https://localhost:8080/"
        },
        "id": "grfzrAZnyN7I",
        "outputId": "fcc072bf-b9d6-42f6-e720-b0475649b2c0"
      },
      "execution_count": null,
      "outputs": [
        {
          "output_type": "stream",
          "name": "stdout",
          "text": [
            "44.0\n"
          ]
        }
      ]
    },
    {
      "cell_type": "code",
      "source": [
        "#型別轉換\n",
        "x=\"must\"\n",
        "y=10\n",
        "z=\"10\"\n",
        "\n",
        "print(type(x))\n",
        "print(type(y))\n",
        "print(10*y)\n",
        "print(10*x)\n",
        "print(10*z)\n",
        "print(10*int(z))\n",
        "print(10*float(z))\n",
        "print(10*str(y))\n",
        "print(10*eval(\"5*2\"))"
      ],
      "metadata": {
        "colab": {
          "base_uri": "https://localhost:8080/"
        },
        "id": "1061bSPmmsMT",
        "outputId": "9afc243d-6ff2-4b87-a866-9b311a151644"
      },
      "execution_count": null,
      "outputs": [
        {
          "output_type": "stream",
          "name": "stdout",
          "text": [
            "<class 'str'>\n",
            "<class 'int'>\n",
            "100\n",
            "mustmustmustmustmustmustmustmustmustmust\n",
            "10101010101010101010\n",
            "100\n",
            "100.0\n",
            "10101010101010101010\n",
            "100\n"
          ]
        }
      ]
    },
    {
      "cell_type": "markdown",
      "source": [
        "# print的三種用法\n",
        "\n",
        "\n",
        "* ###  透過\",\"區隔要列印的變數 eg:print(\"This\",\"is\",\"a\",\"book\")\n",
        "* ###  利用字串的str.format() (新式\n",
        "* ###  %格式化輸出字符串 (舊式\n",
        "\n"
      ],
      "metadata": {
        "id": "_JSl0S3UyKY1"
      }
    },
    {
      "cell_type": "code",
      "source": [
        "a=\"This\"+\"is\"+\"a\"+\"book\"\n",
        "print(a)\n",
        "#Thisisabook\n",
        "print(\"This\",\"is\",\"a\",\"book\")\n",
        "#This is a book"
      ],
      "metadata": {
        "colab": {
          "base_uri": "https://localhost:8080/"
        },
        "id": "p4mGe8MyyISV",
        "outputId": "1de5f1ec-947f-4909-e1f9-4eff6d4b17c8"
      },
      "execution_count": null,
      "outputs": [
        {
          "output_type": "stream",
          "name": "stdout",
          "text": [
            "Thisisabook\n",
            "This is a book\n"
          ]
        }
      ]
    },
    {
      "cell_type": "markdown",
      "source": [
        "# 流程控制\n",
        "# if else,elif\n",
        "\n",
        "### python是注重結構的程式語言"
      ],
      "metadata": {
        "id": "XKyASeiKsOS1"
      }
    },
    {
      "cell_type": "code",
      "source": [
        "a=3\n",
        "b=4\n",
        "if a <= b:  #要做判斷時 須加冒號\n",
        "  print(\"b是比較大的數字\")\n",
        "elif a == b: #mean else if\n",
        "  print(\"a與b相等\")\n",
        "else:      #一定要縮排 否則會出現錯誤\n",
        "  print(\"a是比較大的數字\")"
      ],
      "metadata": {
        "colab": {
          "base_uri": "https://localhost:8080/"
        },
        "id": "YC0nvqkksMwj",
        "outputId": "8b864017-2634-48cd-ae0e-acdd4b5d0955"
      },
      "execution_count": null,
      "outputs": [
        {
          "output_type": "stream",
          "name": "stdout",
          "text": [
            "b是比較大的數字\n"
          ]
        }
      ]
    },
    {
      "cell_type": "code",
      "source": [
        "for i in range(10): #從0~9\n",
        "  print(i)\n",
        "for i in range(0,10,2): #2的倍數\n",
        "  print(i)"
      ],
      "metadata": {
        "colab": {
          "base_uri": "https://localhost:8080/"
        },
        "id": "7QHpp7NI38Ps",
        "outputId": "0aee0c1e-d8ad-4cb2-db12-398a66b8a61a"
      },
      "execution_count": null,
      "outputs": [
        {
          "output_type": "stream",
          "name": "stdout",
          "text": [
            "0\n",
            "1\n",
            "2\n",
            "3\n",
            "4\n",
            "5\n",
            "6\n",
            "7\n",
            "8\n",
            "9\n",
            "0\n",
            "2\n",
            "4\n",
            "6\n",
            "8\n"
          ]
        }
      ]
    },
    {
      "cell_type": "code",
      "source": [
        "for c in \"im　luo\":\n",
        "  print(c)\n",
        "for p in [\"jave\",\"python\",\"C#\"]:\n",
        "  print(p)"
      ],
      "metadata": {
        "colab": {
          "base_uri": "https://localhost:8080/"
        },
        "id": "U0pFaPjJ5nsp",
        "outputId": "6d965181-d03b-4b1e-8928-a155244277b5"
      },
      "execution_count": null,
      "outputs": [
        {
          "output_type": "stream",
          "name": "stdout",
          "text": [
            "i\n",
            "m\n",
            "　\n",
            "l\n",
            "u\n",
            "o\n",
            "jave\n",
            "python\n",
            "C#\n"
          ]
        }
      ]
    },
    {
      "cell_type": "code",
      "source": [
        "#迴圈\n",
        "sum=0\n",
        "for i in range(1,11,1):\n",
        "  sum+=i #sum=sum+i\n",
        "print(sum)"
      ],
      "metadata": {
        "colab": {
          "base_uri": "https://localhost:8080/"
        },
        "id": "_5SQuMjM7bLe",
        "outputId": "ad16addf-cf30-4632-8512-361c47638348"
      },
      "execution_count": null,
      "outputs": [
        {
          "output_type": "stream",
          "name": "stdout",
          "text": [
            "55\n"
          ]
        }
      ]
    },
    {
      "cell_type": "markdown",
      "source": [
        "# 雞兔同籠，若有35個頭 94隻腳，請問有幾隻雞？幾隻兔?"
      ],
      "metadata": {
        "id": "oIgYHrPW85OC"
      }
    },
    {
      "cell_type": "code",
      "source": [
        "from matplotlib.collections import BrokenBarHCollection\n",
        "for G in range(0,36):\n",
        "  R=35-G\n",
        "  if (2*G+4*R) == 94:\n",
        "    print(\"雞有\",G,\"隻\",R,\"隻\")\n",
        "    break\n",
        "else:\n",
        "    print(\"無解\")"
      ],
      "metadata": {
        "colab": {
          "base_uri": "https://localhost:8080/"
        },
        "id": "6MveCG1Z84f3",
        "outputId": "4864b5fd-0aba-4132-a79d-57a1dcb11075"
      },
      "execution_count": null,
      "outputs": [
        {
          "output_type": "stream",
          "name": "stdout",
          "text": [
            "雞有 23 隻 12 隻\n"
          ]
        }
      ]
    },
    {
      "cell_type": "markdown",
      "source": [
        "#While迴圈"
      ],
      "metadata": {
        "id": "m3wVjgH49ubU"
      }
    },
    {
      "cell_type": "code",
      "source": [
        "i=1\n",
        "sum=0\n",
        "while i<=11:\n",
        "   sum+=i\n",
        "   i+=1\n",
        "   print(sum)#運算過程\n",
        "\n",
        "print(\"最終結果:\",sum)"
      ],
      "metadata": {
        "colab": {
          "base_uri": "https://localhost:8080/"
        },
        "id": "l5SqfkLo9xu-",
        "outputId": "185f9986-17f3-4ed4-f1ac-811fa73c8faa"
      },
      "execution_count": null,
      "outputs": [
        {
          "output_type": "stream",
          "name": "stdout",
          "text": [
            "1\n",
            "3\n",
            "6\n",
            "10\n",
            "15\n",
            "21\n",
            "28\n",
            "36\n",
            "45\n",
            "55\n",
            "66\n",
            "最終結果: 66\n"
          ]
        }
      ]
    }
  ]
}