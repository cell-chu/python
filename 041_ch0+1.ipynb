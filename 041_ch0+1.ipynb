{
  "cells": [
    {
      "cell_type": "markdown",
      "metadata": {
        "id": "Z0VWz01yzBc7"
      },
      "source": [
        "# Chap 1 運算式、變數與資料型別\n",
        "## 註解\n",
        "# my first python \"#\"標題意思　\n",
        "## \"##\"較小的標題\n",
        "\n",
        "### ctrl+enter 執行\n",
        "### print 印出\n",
        "\n"
      ]
    },
    {
      "cell_type": "code",
      "execution_count": null,
      "metadata": {
        "id": "tVZXhUnGzBdA",
        "outputId": "fbdadd22-e770-4f7b-e8aa-2d939810f35b"
      },
      "outputs": [
        {
          "name": "stdout",
          "output_type": "stream",
          "text": [
            "8\n"
          ]
        }
      ],
      "source": [
        "#單行註解\n",
        "'''多行註解'''\n",
        "a=1\n",
        "b=5\n",
        "print(a+b)"
      ]
    },
    {
      "cell_type": "code",
      "execution_count": null,
      "metadata": {
        "id": "S9NMUCv9zBdC",
        "outputId": "d838439c-dbe0-49c5-ffd6-c29d8b66c5a1"
      },
      "outputs": [
        {
          "name": "stdout",
          "output_type": "stream",
          "text": [
            "8\n"
          ]
        }
      ],
      "source": [
        "'''\n",
        "多行註解\n",
        "多行註解\n",
        "多行註解\n",
        "'''\n",
        "a=3\n",
        "b=5\n",
        "print(a+b)"
      ]
    },
    {
      "cell_type": "markdown",
      "source": [
        "#印出月曆"
      ],
      "metadata": {
        "id": "q5SVbHhtXvk6"
      }
    },
    {
      "cell_type": "code",
      "source": [
        "import calendar\n",
        "print(calendar.month(2022,3))"
      ],
      "metadata": {
        "id": "T_0xEvxxX0TQ"
      },
      "execution_count": null,
      "outputs": []
    },
    {
      "cell_type": "markdown",
      "source": [
        "## 印出年曆 \n",
        "### 前面打過import就可以不用加了,但是前面要先執行過"
      ],
      "metadata": {
        "id": "WN2kCvuEX1JD"
      }
    },
    {
      "cell_type": "code",
      "source": [
        "print(calendar.calendar(2022))"
      ],
      "metadata": {
        "id": "iW5XiuguX3np"
      },
      "execution_count": null,
      "outputs": []
    },
    {
      "cell_type": "markdown",
      "source": [
        "# 抓網頁\n",
        "### requests為要求,text為內容"
      ],
      "metadata": {
        "id": "xX_pefB7X5W0"
      }
    },
    {
      "cell_type": "code",
      "source": [
        "import requests\n",
        "q=requests.get(\"https://www.youtube.com/\")\n",
        "print(q.text)"
      ],
      "metadata": {
        "id": "PoTd9MadX8hL"
      },
      "execution_count": null,
      "outputs": []
    },
    {
      "cell_type": "markdown",
      "source": [
        "## 柱狀圖\n",
        "### matplotlib數學中畫函數的套件 .pyplot為子套件 as為縮寫他\n",
        "### bar柱狀圖 show秀出"
      ],
      "metadata": {
        "id": "zV5jowVGXPdS"
      }
    },
    {
      "cell_type": "code",
      "source": [
        "import matplotlib.pyplot as plt\n",
        "x=[1,2,3]\n",
        "y=[4,5,6]\n",
        "plt.bar(x,y)\n",
        "plt.show"
      ],
      "metadata": {
        "colab": {
          "base_uri": "https://localhost:8080/",
          "height": 282
        },
        "id": "K42iyijWXYnQ",
        "outputId": "7d728d03-18ff-4a59-870e-7f4447a5713f"
      },
      "execution_count": 2,
      "outputs": [
        {
          "output_type": "execute_result",
          "data": {
            "text/plain": [
              "<function matplotlib.pyplot.show>"
            ]
          },
          "metadata": {},
          "execution_count": 2
        },
        {
          "output_type": "display_data",
          "data": {
            "text/plain": [
              "<Figure size 432x288 with 1 Axes>"
            ],
            "image/png": "[encoded data removed]"
          },
          "metadata": {
            "needs_background": "light"
          }
        }
      ]
    },
    {
      "cell_type": "markdown",
      "source": [
        "# 圓餅圖(pie)\n",
        "labels為標籤"
      ],
      "metadata": {
        "id": "FX9XAtIrW-_q"
      }
    },
    {
      "cell_type": "code",
      "source": [
        "plt.pie(x,labels=y)\n",
        "plt.show"
      ],
      "metadata": {
        "colab": {
          "base_uri": "https://localhost:8080/",
          "height": 266
        },
        "id": "fjfLs_TKXLhl",
        "outputId": "36a88bcb-9c8b-4beb-99cf-7e419aa1e3d9"
      },
      "execution_count": 3,
      "outputs": [
        {
          "output_type": "execute_result",
          "data": {
            "text/plain": [
              "<function matplotlib.pyplot.show>"
            ]
          },
          "metadata": {},
          "execution_count": 3
        },
        {
          "output_type": "display_data",
          "data": {
            "text/plain": [
              "<Figure size 432x288 with 1 Axes>"
            ],
            "image/png": "[encoded data removed]"
          },
          "metadata": {}
        }
      ]
    },
    {
      "cell_type": "markdown",
      "metadata": {
        "id": "uPwhmCYUzBdC"
      },
      "source": [
        "## 運算式\n",
        "###透過第三變數z使x=10,y=1"
      ]
    },
    {
      "cell_type": "code",
      "execution_count": null,
      "metadata": {
        "id": "HRYTVBjNzBdD",
        "outputId": "a03f2f82-23cb-433c-a433-4e3801749c15"
      },
      "outputs": [
        {
          "name": "stdout",
          "output_type": "stream",
          "text": [
            "10\n",
            "1\n"
          ]
        }
      ],
      "source": [
        "x=1\n",
        "y=10\n",
        "\n",
        "z=x\n",
        "x=y\n",
        "y=z\n",
        "print(\"x=\",x)\n",
        "print(\"y=\",y)"
      ]
    },
    {
      "cell_type": "code",
      "execution_count": null,
      "metadata": {
        "id": "cyhoqx6ZzBdD",
        "outputId": "d2582799-5efe-4168-a077-dc064af6921f"
      },
      "outputs": [
        {
          "name": "stdout",
          "output_type": "stream",
          "text": [
            "10\n",
            "1\n"
          ]
        }
      ],
      "source": [
        "#變數交換,不透過第三變數\n",
        "x=1\n",
        "y=10\n",
        "x=x+y\n",
        "y=x-y\n",
        "x=x-y\n",
        "print(x,y)\n",
        "'''\n",
        "1+10=11--x\n",
        "11-10=1--y\n",
        "11-1=10--x\n",
        "'''"
      ]
    },
    {
      "cell_type": "code",
      "source": [
        "#變數的平行設定\n",
        "x,y,z=1,10,100\n",
        "print(x,y,z)\n"
      ],
      "metadata": {
        "id": "c0K0zbJvXtzM"
      },
      "execution_count": null,
      "outputs": []
    },
    {
      "cell_type": "code",
      "execution_count": null,
      "metadata": {
        "id": "HmjEvATSzBdE",
        "outputId": "5dcaae36-217c-4896-d3d2-605676e6642d"
      },
      "outputs": [
        {
          "name": "stdout",
          "output_type": "stream",
          "text": [
            "10\n",
            "1\n"
          ]
        }
      ],
      "source": [
        "#python版本的變數交換\n",
        "x=1\n",
        "y=10\n",
        "x,y = y,x\n",
        "print(x)\n",
        "print(y)"
      ]
    },
    {
      "cell_type": "code",
      "source": [
        "#數學運算\n",
        "x,y,z=3,4,5\n",
        "x+=1 #x=x+1\n",
        "y*=2 #y=y*2\n",
        "z**=3 #z=z**3(z的三次方)\n",
        "print(x,y,z)"
      ],
      "metadata": {
        "id": "5tLhx852WK7H"
      },
      "execution_count": null,
      "outputs": []
    },
    {
      "cell_type": "markdown",
      "metadata": {
        "id": "tdgaBxHOzBdF"
      },
      "source": [
        "## 變數\n",
        "### 變數的平行設定"
      ]
    },
    {
      "cell_type": "code",
      "execution_count": null,
      "metadata": {
        "id": "bpla_RXVzBdF",
        "outputId": "05fdcf0e-34c2-455b-9d44-e32f0fed8de6"
      },
      "outputs": [
        {
          "name": "stdout",
          "output_type": "stream",
          "text": [
            "3\n",
            "4\n",
            "5\n"
          ]
        }
      ],
      "source": [
        "x, y, z= 3, 4, 5\n",
        "print(x)\n",
        "print(y)\n",
        "print(z)"
      ]
    },
    {
      "cell_type": "code",
      "execution_count": null,
      "metadata": {
        "id": "2UYgV-aHzBdG",
        "outputId": "6c20e663-ba79-4641-deba-668f91355efc"
      },
      "outputs": [
        {
          "name": "stdout",
          "output_type": "stream",
          "text": [
            "4 8 125\n"
          ]
        }
      ],
      "source": [
        "x, y, z = 3, 4, 5\n",
        "x += 1 #x=x+1\n",
        "y *= 2 #y=y*2\n",
        "z **= 3 #z^3\n",
        "print(x, y, z)"
      ]
    },
    {
      "cell_type": "markdown",
      "metadata": {
        "id": "cPxEtWL2zBdG"
      },
      "source": [
        "### 變數的應用\n",
        "Q：邊長為3, 4, 5的三角形，其面積大小為何?  \n",
        "海龍公式：  \n",
        "s=(a+b+c)/2  \n",
        "sqrt(s(s-a)(s-b)(s-c))  "
      ]
    },
    {
      "cell_type": "code",
      "execution_count": null,
      "metadata": {
        "id": "RlY19l7NzBdH",
        "outputId": "0c21ceed-f888-4555-a705-f8ef1ebb410a"
      },
      "outputs": [
        {
          "name": "stdout",
          "output_type": "stream",
          "text": [
            "6.0\n"
          ]
        }
      ],
      "source": [
        "import math #數學\n",
        "a,b,c=3,4,5\n",
        "s=(a+b+c)/2\n",
        "d=math.sqrt(s*(s-a)*(s-b)*(s-c)) #sqrt 平方\n",
        "print(d)"
      ]
    },
    {
      "cell_type": "markdown",
      "metadata": {
        "id": "qDYkomdNzBdH"
      },
      "source": [
        "\n",
        "Q：半徑為10的圓形，其面積大小為何?  "
      ]
    },
    {
      "cell_type": "code",
      "execution_count": null,
      "metadata": {
        "id": "cYixZivuzBdH",
        "outputId": "27514cba-2f30-40b4-d5aa-ffbb41da9b5e"
      },
      "outputs": [
        {
          "name": "stdout",
          "output_type": "stream",
          "text": [
            "314.1592653589793\n"
          ]
        }
      ],
      "source": [
        "import math\n",
        "r=eval(input(\"請輸入圓形的半徑\")) #eval()將字串進行數值運算 float為浮點數 可以輸入小數\n",
        "print(r*r*math.pi)"
      ]
    },
    {
      "cell_type": "markdown",
      "metadata": {
        "id": "xAVrUeJ3zBdI"
      },
      "source": [
        "## 資料型別\n",
        "python屬於動態類型變數，使用前不需要宣告資料型態"
      ]
    },
    {
      "cell_type": "code",
      "execution_count": null,
      "metadata": {
        "id": "OR2WR_eyzBdI",
        "outputId": "126fecbf-7e84-42fd-9553-5bc91317b029",
        "colab": {
          "base_uri": "https://localhost:8080/"
        }
      },
      "outputs": [
        {
          "output_type": "stream",
          "name": "stdout",
          "text": [
            "<class 'int'>\n",
            "<class 'float'>\n",
            "<class 'str'>\n",
            "<class 'bool'>\n"
          ]
        }
      ],
      "source": [
        "#判斷資料型別\n",
        "x=254\n",
        "y=254.0\n",
        "z=\"writE\"\n",
        "print(type(x))\n",
        "print(type(y))\n",
        "print(type(z))"
      ]
    },
    {
      "cell_type": "markdown",
      "metadata": {
        "id": "FoB0ZvxXzBdI"
      },
      "source": [
        "## 算術符號"
      ]
    },
    {
      "cell_type": "code",
      "execution_count": null,
      "metadata": {
        "id": "iNuGzZGvzBdI",
        "outputId": "ccf3e5e0-24e1-489f-faac-f62b2520e1f5"
      },
      "outputs": [
        {
          "name": "stdout",
          "output_type": "stream",
          "text": [
            "3.3333333333333335\n",
            "3\n",
            "1\n"
          ]
        }
      ],
      "source": [
        "x=10\n",
        "y=3\n",
        "print(x/y)  #除法\n",
        "print(x//y) #求商\n",
        "print(x%y)  #求餘數"
      ]
    },
    {
      "cell_type": "markdown",
      "metadata": {
        "id": "3zNxYIbnzBdJ"
      },
      "source": [
        "### 注意數字的正確性"
      ]
    },
    {
      "cell_type": "code",
      "execution_count": null,
      "metadata": {
        "id": "vQpJilkyzBdJ",
        "outputId": "f9c1a68e-728f-439b-f17e-c8e05a5225b6"
      },
      "outputs": [
        {
          "name": "stdout",
          "output_type": "stream",
          "text": [
            "0.0015926269999999576\n"
          ]
        }
      ],
      "source": [
        "x=3.141592627\n",
        "print(x-3.14) #比正確值略小"
      ]
    },
    {
      "cell_type": "markdown",
      "source": [
        "### 算術符號的順序\n",
        "## () > 次方 > */乘除 > +-加減 "
      ],
      "metadata": {
        "id": "W764fgnE3Nx3"
      }
    },
    {
      "cell_type": "code",
      "source": [
        "x=(5*(1+2)**2-3+4/2)\n",
        "print(x)"
      ],
      "metadata": {
        "id": "HE6Y_x9F34KK",
        "outputId": "702aba21-21be-4781-c364-d395fb8b16d7",
        "colab": {
          "base_uri": "https://localhost:8080/"
        }
      },
      "execution_count": null,
      "outputs": [
        {
          "output_type": "stream",
          "name": "stdout",
          "text": [
            "44.0\n"
          ]
        }
      ]
    },
    {
      "cell_type": "markdown",
      "metadata": {
        "id": "DbIoc8ZNzBdJ"
      },
      "source": [
        "## 關係比較"
      ]
    },
    {
      "cell_type": "code",
      "execution_count": null,
      "metadata": {
        "id": "tmsg2dPYzBdK",
        "outputId": "65830950-2991-466b-965c-e320be384d17"
      },
      "outputs": [
        {
          "name": "stdout",
          "output_type": "stream",
          "text": [
            "True\n",
            "False\n",
            "20\n"
          ]
        }
      ],
      "source": [
        "print(10==10)\n",
        "x, y = 10, 20\n",
        "print(x==y)  # == 關係比較\n",
        "x=y          # =  指派值\n",
        "print(x)"
      ]
    },
    {
      "cell_type": "markdown",
      "metadata": {
        "id": "RBTZkMbfzBdK"
      },
      "source": [
        "### 關係運算，以閏年為例"
      ]
    },
    {
      "cell_type": "code",
      "execution_count": null,
      "metadata": {
        "id": "TyQ5jxwmzBdK",
        "outputId": "11de697e-099f-495d-e2eb-a6967629337a"
      },
      "outputs": [
        {
          "name": "stdout",
          "output_type": "stream",
          "text": [
            "False\n",
            "True\n",
            "False\n",
            "True\n"
          ]
        }
      ],
      "source": [
        "y=2010                   \n",
        "print(y%4==0 and y%100!=0 or y%400==0)\n",
        "y=2012\n",
        "print(y%4==0 and y%100!=0 or y%400==0)\n",
        "y=1900\n",
        "print(y%4==0 and y%100!=0 or y%400==0)\n",
        "y=2000\n",
        "print(y%4==0 and y%100!=0 or y%400==0)"
      ]
    },
    {
      "cell_type": "markdown",
      "metadata": {
        "id": "vKPSRJu6zBdK"
      },
      "source": [
        "## 型態轉換"
      ]
    },
    {
      "cell_type": "code",
      "execution_count": null,
      "metadata": {
        "id": "G4y58jyCzBdK",
        "outputId": "2cd45a92-3001-4bd4-e47e-e74d8068a4df"
      },
      "outputs": [
        {
          "name": "stdout",
          "output_type": "stream",
          "text": [
            "mustmustmustmustmustmustmustmustmustmust\n",
            "10must\n",
            "10 must\n"
          ]
        }
      ],
      "source": [
        "#小心不同型態之間所得到的結果跟想像不同\n",
        "x=\"must\"\n",
        "print(10*x)\n",
        "print(\"10\"+x)\n",
        "print(10,x)"
      ]
    },
    {
      "cell_type": "code",
      "execution_count": null,
      "metadata": {
        "id": "hyNNRBttzBdL",
        "outputId": "23ba2409-bacb-4a96-aa66-0fd67ff6af4b"
      },
      "outputs": [
        {
          "name": "stdout",
          "output_type": "stream",
          "text": [
            "<class 'int'>\n",
            "<class 'float'>\n",
            "123\n",
            "123\n",
            "123\n"
          ]
        }
      ],
      "source": [
        "x=12\n",
        "print(type(x))\n",
        "y=float(x)+0.5 #強制型別轉換\n",
        "print(type(y))\n",
        "print(int(\"123\"))\n",
        "print(int(123.33))\n",
        "print(int(float(\"123.33\")))"
      ]
    },
    {
      "cell_type": "code",
      "execution_count": null,
      "metadata": {
        "id": "C53BxXRxzBdL",
        "outputId": "70e92149-962f-41fb-bcff-f8f9b89632bc"
      },
      "outputs": [
        {
          "name": "stdout",
          "output_type": "stream",
          "text": [
            "The value of x is 32.5 and y is 40000\n",
            "The value of x is 32.5 and y is 40000\n",
            "The value of x is 32.5 and y is 40000\n"
          ]
        }
      ],
      "source": [
        "#字串的型別轉換\n",
        "x=10*3.25  #x=32.5\n",
        "y=200*200  #y=40000\n",
        "s=\"The value of x is \" + str(x) + ' and y is ' + str(y)\n",
        "print(s)\n",
        "print(\"The value of x is\", x,\"and y is\", y)\n",
        "print(\"The value of x is {} and y is {}\".format(x,y))"
      ]
    },
    {
      "cell_type": "markdown",
      "metadata": {
        "id": "w8JSVN9kzBdL"
      },
      "source": [
        "## 非內建模組"
      ]
    },
    {
      "cell_type": "code",
      "execution_count": null,
      "metadata": {
        "id": "T1f_qQrqzBdL",
        "outputId": "05890324-a231-4e40-f576-b1ac9427d5ad"
      },
      "outputs": [
        {
          "name": "stdout",
          "output_type": "stream",
          "text": [
            "3.141592653589793\n",
            "8.0\n",
            "26.423892221536985\n",
            "5.0\n"
          ]
        }
      ],
      "source": [
        "import math\n",
        "print(math.pi)\n",
        "print(math.pow(2,3))\n",
        "print(8.3*10.58*math.sin(37.0/180*math.pi)/2)\n",
        "print(math.sqrt(25))"
      ]
    },
    {
      "cell_type": "markdown",
      "metadata": {
        "id": "Djr1rfMEzBdL"
      },
      "source": [
        "### 範例：算圓面積"
      ]
    },
    {
      "cell_type": "code",
      "execution_count": null,
      "metadata": {
        "id": "g2DMlHbKzBdM",
        "outputId": "4212b04a-3d92-4043-ca1a-639642b6c5f7"
      },
      "outputs": [
        {
          "name": "stdout",
          "output_type": "stream",
          "text": [
            "請輸入圓的半徑：10\n",
            "圓面積為 314.1592653589793\n"
          ]
        }
      ],
      "source": [
        "import math\n",
        "r=input(\"請輸入圓的半徑：\")\n",
        "area=float(r)*float(r)*math.pi\n",
        "print(\"圓面積為：\",area)"
      ]
    },
    {
      "cell_type": "markdown",
      "metadata": {
        "id": "yjeGpLhXzBdM"
      },
      "source": [
        "### 應用題：算矩形面積"
      ]
    },
    {
      "cell_type": "code",
      "execution_count": null,
      "metadata": {
        "id": "ReAoqc4bzBdM",
        "outputId": "af9c0442-0641-4025-d5d0-e2933051d327"
      },
      "outputs": [
        {
          "name": "stdout",
          "output_type": "stream",
          "text": [
            "請輸入矩形的長：10\n",
            "請輸入矩形的寬：5\n",
            "矩形面積為： 50.0\n"
          ]
        }
      ],
      "source": [
        "r=input(\"請輸入矩形的長：\")\n",
        "w=input(\"請輸入矩形的寬：\")\n",
        "area=float(r)*float(w)   #float 浮點數\n",
        "print(\"矩形面積為：\",area)"
      ]
    },
    {
      "cell_type": "markdown",
      "source": [
        "### eval()函數\n",
        "eval會把str型態的表示式，轉換成數學式進行計算 "
      ],
      "metadata": {
        "id": "P2q_5uf61Iwg"
      }
    },
    {
      "cell_type": "code",
      "execution_count": null,
      "metadata": {
        "id": "eLCDyCLDzBdM",
        "outputId": "496e5ff1-84e3-460d-ba86-068e09024b8c",
        "colab": {
          "base_uri": "https://localhost:8080/"
        }
      },
      "outputs": [
        {
          "output_type": "stream",
          "name": "stdout",
          "text": [
            "8\n",
            "請輸入產品編號：3\n",
            "<class 'str'>\n",
            "<class 'int'>\n"
          ]
        }
      ],
      "source": [
        "print(eval(\"3+5\")) #eval 運算括號中的數字\n",
        "id=input(\"請輸入產品編號：\")\n",
        "print(type(id))  #type判斷型態\n",
        "print(type(eval(id)))\n"
      ]
    },
    {
      "cell_type": "markdown",
      "source": [
        "### print的三種方式\n",
        "1. 透過,區隔要列印的變數 eg: print(\"This\", \"is\", \"a\", \"book\") \n",
        "2. 利用字串的str.format() (新式)\n",
        "3. %格式化输出字符串 (舊式)"
      ],
      "metadata": {
        "id": "djpk9DCW5lr3"
      }
    },
    {
      "cell_type": "code",
      "source": [
        "print(\"This\", \"is\", \"a\", \"book\") #逗號與+的差別\n",
        "print(\"This\"+\"is\"+\"a\"+\"book\")"
      ],
      "metadata": {
        "id": "cufk8dg11oKY",
        "outputId": "3f8191bd-7ee4-4b95-d960-f0e32c0e9f19",
        "colab": {
          "base_uri": "https://localhost:8080/"
        }
      },
      "execution_count": null,
      "outputs": [
        {
          "output_type": "stream",
          "name": "stdout",
          "text": [
            "This is a book\n",
            "Thisisabook\n"
          ]
        }
      ]
    },
    {
      "cell_type": "markdown",
      "source": [
        "- 利用字串的str.format()，在{ }中替代變數的位置 \n",
        "- eg: print(\"This {} a book\".format(\"is\"))\n",
        "- {}中可以設定格式\n",
        "- 例如：{0:10} (10個空格，靠左對齊)\n",
        "- 例如：{:,2f} (三個數字用,分隔，小數點後2位數)"
      ],
      "metadata": {
        "id": "NbQB5yGh89mE"
      }
    },
    {
      "cell_type": "code",
      "source": [
        "print(\"This {} a book\".format(\"is\"))\n",
        "x=123456.7890\n",
        "print(\"{:.2f}\".format(x))  #小數點.後兩位\n",
        "print(\"{:,.2f}\".format(x)) #,小數點前用,分開"
      ],
      "metadata": {
        "id": "en8WTCuY5ytH",
        "outputId": "01b67b8b-bb35-4a61-c11c-231d57909072",
        "colab": {
          "base_uri": "https://localhost:8080/"
        }
      },
      "execution_count": null,
      "outputs": [
        {
          "output_type": "stream",
          "name": "stdout",
          "text": [
            "This is a book\n",
            "123456.79\n",
            "123,456.79\n"
          ]
        }
      ]
    },
    {
      "cell_type": "markdown",
      "source": [
        "- C語言類似的 % 格式\n",
        "- %s (字串) %d (整數) %f (浮點數)\n",
        "- %s(字串): %10s (10格靠右對齊，不足的左方補空白), %-10s\n",
        "- %f(浮點數): %7.3f (總共7個浮點數位數，含一個小數點，以及三個小數點後數字)"
      ],
      "metadata": {
        "id": "jT4qZYnA5-6e"
      }
    },
    {
      "cell_type": "code",
      "source": [
        "print(\"This %-10s a %10s\" % (\"is\", \"book\")) #字串占10格，靠右2格\n",
        "print(\"%7.3f\" % 6789.4333)"
      ],
      "metadata": {
        "id": "ds6qL3mE7nEv",
        "outputId": "a86ab225-17fa-467e-a147-f2c5fff4e9ad",
        "colab": {
          "base_uri": "https://localhost:8080/"
        }
      },
      "execution_count": null,
      "outputs": [
        {
          "output_type": "stream",
          "name": "stdout",
          "text": [
            "This is         a       book\n",
            "6789.433\n"
          ]
        }
      ]
    },
    {
      "cell_type": "code",
      "source": [
        ""
      ],
      "metadata": {
        "id": "_OZxGXm27uI2"
      },
      "execution_count": null,
      "outputs": []
    }
  ],
  "metadata": {
    "kernelspec": {
      "display_name": "Python 3",
      "language": "python",
      "name": "python3"
    },
    "language_info": {
      "codemirror_mode": {
        "name": "ipython",
        "version": 3
      },
      "file_extension": ".py",
      "mimetype": "text/x-python",
      "name": "python",
      "nbconvert_exporter": "python",
      "pygments_lexer": "ipython3",
      "version": "3.6.3"
    },
    "colab": {
      "name": "041-ch0+1",
      "provenance": [],
      "collapsed_sections": []
    }
  },
  "nbformat": 4,
  "nbformat_minor": 0
}