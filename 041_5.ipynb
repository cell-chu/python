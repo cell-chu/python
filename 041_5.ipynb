{
  "cells": [
    {
      "cell_type": "markdown",
      "metadata": {
        "id": "cCr90BuFjTdJ"
      },
      "source": [
        "# 函式(數)"
      ]
    },
    {
      "cell_type": "markdown",
      "metadata": {
        "id": "_XNLLBvxjTdM"
      },
      "source": [
        "## 傳統的寫法"
      ]
    },
    {
      "cell_type": "code",
      "execution_count": null,
      "metadata": {
        "id": "l7o_ENdPjTdN",
        "outputId": "045708de-a360-4149-ba41-d31183d4c1ae"
      },
      "outputs": [
        {
          "name": "stdout",
          "output_type": "stream",
          "text": [
            "請輸入圓的半徑：10\n",
            "圓的面積為： 314.1592653589793\n"
          ]
        }
      ],
      "source": [
        "import math\n",
        "radius = eval(input(\"請輸入圓的半徑：\")) #把輸入的字串變成數學計算型態\n",
        "print(\"圓的面積為：\", radius * radius * math.pi) #半徑*半徑*乘3.14(圓周率)"
      ]
    },
    {
      "cell_type": "markdown",
      "metadata": {
        "id": "p9iCSdyCjTdO"
      },
      "source": [
        "## 面積計算函示"
      ]
    },
    {
      "cell_type": "code",
      "execution_count": 1,
      "metadata": {
        "id": "0F8IsM5gjTdO",
        "outputId": "507b4960-c0d4-4e37-97a0-19b81e10049f",
        "colab": {
          "base_uri": "https://localhost:8080/"
        }
      },
      "outputs": [
        {
          "output_type": "stream",
          "name": "stdout",
          "text": [
            "78.53981633974483\n"
          ]
        }
      ],
      "source": [
        "import math\n",
        "def circle_area(radius):\n",
        "    area = radius * radius * math.pi #計算5*5*pi\n",
        "    return area\n",
        "\n",
        "print(circle_area(5))#當ca等於5 "
      ]
    },
    {
      "cell_type": "code",
      "execution_count": null,
      "metadata": {
        "id": "f-NOD8JpjTdP"
      },
      "outputs": [],
      "source": [
        ""
      ]
    }
  ],
  "metadata": {
    "kernelspec": {
      "display_name": "Python 3",
      "language": "python",
      "name": "python3"
    },
    "language_info": {
      "codemirror_mode": {
        "name": "ipython",
        "version": 3
      },
      "file_extension": ".py",
      "mimetype": "text/x-python",
      "name": "python",
      "nbconvert_exporter": "python",
      "pygments_lexer": "ipython3",
      "version": "3.8.5"
    },
    "colab": {
      "name": "041_5",
      "provenance": [],
      "collapsed_sections": []
    }
  },
  "nbformat": 4,
  "nbformat_minor": 0
}