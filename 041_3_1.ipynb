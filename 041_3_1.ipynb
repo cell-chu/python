{
  "cells": [
    {
      "cell_type": "markdown",
      "metadata": {
        "id": "j7ppCx7DbEcd"
      },
      "source": [
        "## Tuple (元組)\n",
        "tuple(元組)可視為不可改變的串列，tuple跟list很像，但是我們不能新增、刪除或更新tuple的元素。tuple的好處有：\n",
        "1. 佔用較少空間\n",
        "2. 可當作dictionary(字典)的鍵值\n",
        "3. 可當作函式引數"
      ]
    },
    {
      "cell_type": "code",
      "execution_count": 1,
      "metadata": {
        "id": "7PDcKY9pbEcd",
        "outputId": "4420a5cf-f9d6-4829-f0dd-53fc7ea9c5c8",
        "colab": {
          "base_uri": "https://localhost:8080/"
        }
      },
      "outputs": [
        {
          "output_type": "stream",
          "name": "stdout",
          "text": [
            "('python', 'java', 'SQL')\n",
            "('go', 'C#', 'VB')\n",
            "go\n"
          ]
        }
      ],
      "source": [
        "a_tuple=('python', 'java', 'SQL')\n",
        "print(a_tuple)\n",
        "b_list=['go', 'C#', 'VB']\n",
        "b_tuple=tuple(b_list)\n",
        "print(b_tuple)\n",
        "print(b_tuple[0]) #0,1,2=go C# VB\n"
      ]
    },
    {
      "cell_type": "markdown",
      "metadata": {
        "id": "CUXAeIhFbEcd"
      },
      "source": [
        "### 字典(dictionary - dict)為帶有鍵值(key)的串列(list)"
      ]
    },
    {
      "cell_type": "code",
      "execution_count": null,
      "metadata": {
        "id": "8jVAFMBhbEcd",
        "outputId": "7be9f04f-00c1-4556-a43b-e7f7253755ca"
      },
      "outputs": [
        {
          "name": "stdout",
          "output_type": "stream",
          "text": [
            "python\n",
            "3.7\n",
            "python\n",
            "java\n",
            "SQL\n",
            "{'name': 'python', 'version': '3.7'}\n",
            "dict_keys(['name', 'version'])\n",
            "dict_values(['python', '3.7'])\n",
            "dict_items([('name', 'python'), ('version', '3.7')])\n",
            "True\n"
          ]
        }
      ],
      "source": [
        "languages = {}\n",
        "languages = {'name':'python', 'version':'3.7'} #索引值(鍵值)可以自訂\n",
        "print(languages['name']) \n",
        "print(languages['version'])\n",
        "a={0:'python', 1:'java', 2:'SQL'}\n",
        "print(a[0])\n",
        "print(a[1])\n",
        "print(a[2])\n",
        "print(languages)\n",
        "print(languages.keys())\n",
        "print(languages.values())\n",
        "print(languages.items()) #括弧中不輸入東西則返回字典中的詞\n",
        "print('name' in languages) #判定name是否在(in)languages之中"
      ]
    },
    {
      "cell_type": "code",
      "execution_count": null,
      "metadata": {
        "id": "j3py58PubEce"
      },
      "outputs": [],
      "source": [
        ""
      ]
    }
  ],
  "metadata": {
    "kernelspec": {
      "display_name": "Python 3",
      "language": "python",
      "name": "python3"
    },
    "language_info": {
      "codemirror_mode": {
        "name": "ipython",
        "version": 3
      },
      "file_extension": ".py",
      "mimetype": "text/x-python",
      "name": "python",
      "nbconvert_exporter": "python",
      "pygments_lexer": "ipython3",
      "version": "3.7.4"
    },
    "colab": {
      "name": "041_3-1",
      "provenance": []
    }
  },
  "nbformat": 4,
  "nbformat_minor": 0
}